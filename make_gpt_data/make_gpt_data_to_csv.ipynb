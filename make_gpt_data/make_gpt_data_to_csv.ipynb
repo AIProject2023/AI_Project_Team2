{
 "cells": [
  {
   "cell_type": "code",
   "execution_count": 9,
   "metadata": {},
   "outputs": [],
   "source": [
    "import pandas as pd"
   ]
  },
  {
   "cell_type": "code",
   "execution_count": 10,
   "metadata": {},
   "outputs": [],
   "source": [
    "text=[\n",
    "    \"당신을 위한 특별 할인 이벤트! 오늘만 50% 할인된 가격으로 제품을 구매하세요!\",\n",
    "    \"당신이 놓치고 있는 놀라운 기회! 지금 신청하면 무료 선물을 받을 수 있습니다!\",\n",
    "    \"당신의 계정에 비정상적인 활동이 감지되었습니다. 비밀번호를 변경하고 보안을 강화하세요.\",\n",
    "    \"이 대출 상품은 당신을 위해 특별히 설계되었습니다. 지금 바로 신청하세요!\",\n",
    "    \"당신이 당첨되었습니다! 100만 원 상당의 상품을 받을 기회를 놓치지 마세요!\",\n",
    "    \"이 음식점에서 특별한 할인 행사가 진행 중입니다. 맛있는 식사를 저렴한 가격에 즐기세요!\",\n",
    "    \"당신의 사업을 성장시킬 수 있는 최고의 마케팅 전략을 알려드립니다. 상담 신청은 지금!\",\n",
    "    \"이 새로운 앱을 다운로드하고 특별한 혜택을 누려보세요. 당신을 기다리고 있습니다!\",\n",
    "    \"오늘만! 한정된 수량의 특별 상품을 할인된 가격으로 구매하세요.\",\n",
    "    \"당신의 건강과 미모를 책임질 최고의 제품을 만나보세요. 오늘부터 새로운 시작을 해보세요!\"\n",
    "]"
   ]
  },
  {
   "cell_type": "code",
   "execution_count": 11,
   "metadata": {},
   "outputs": [
    {
     "name": "stdout",
     "output_type": "stream",
     "text": [
      "                                               text\n",
      "0     당신을 위한 특별 할인 이벤트! 오늘만 50% 할인된 가격으로 제품을 구매하세요!\n",
      "1      당신이 놓치고 있는 놀라운 기회! 지금 신청하면 무료 선물을 받을 수 있습니다!\n",
      "2  당신의 계정에 비정상적인 활동이 감지되었습니다. 비밀번호를 변경하고 보안을 강화하세요.\n"
     ]
    }
   ],
   "source": [
    "df=pd.DataFrame(text, columns=['text'])\n",
    "print(df.head(3))"
   ]
  },
  {
   "cell_type": "code",
   "execution_count": 12,
   "metadata": {},
   "outputs": [],
   "source": [
    "df.to_csv(\"./gpt_data.csv\", index=True, index_label=\"id\")"
   ]
  }
 ],
 "metadata": {
  "kernelspec": {
   "display_name": "base",
   "language": "python",
   "name": "python3"
  },
  "language_info": {
   "codemirror_mode": {
    "name": "ipython",
    "version": 3
   },
   "file_extension": ".py",
   "mimetype": "text/x-python",
   "name": "python",
   "nbconvert_exporter": "python",
   "pygments_lexer": "ipython3",
   "version": "3.9.7"
  },
  "orig_nbformat": 4
 },
 "nbformat": 4,
 "nbformat_minor": 2
}
