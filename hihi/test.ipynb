{
 "cells": [
  {
   "cell_type": "code",
   "execution_count": 9,
   "metadata": {},
   "outputs": [],
   "source": [
    "import torch\n",
    "import numpy as np\n",
    "from torch.utils.data import Dataset, DataLoader\n",
    "import csv"
   ]
  },
  {
   "cell_type": "code",
   "execution_count": 12,
   "metadata": {},
   "outputs": [],
   "source": [
    "class TextDataset(Dataset):\n",
    "    def __init__(self, texts):\n",
    "        self.texts = texts\n",
    "        print(texts)\n",
    "\n",
    "    def __len__(self):\n",
    "        return len(self.texts)\n",
    "\n",
    "    def __getitem__(self, idx):\n",
    "        text = self.texts[idx]\n",
    "        return text"
   ]
  },
  {
   "cell_type": "code",
   "execution_count": 13,
   "metadata": {},
   "outputs": [
    {
     "name": "stdout",
     "output_type": "stream",
     "text": [
      "BaselineModel(\n",
      "  (embedding): Embedding(54329, 1024)\n",
      "  (rnn): RNN(1024, 1024, batch_first=True)\n",
      "  (linear): Sequential(\n",
      "    (0): Linear(in_features=1024, out_features=10, bias=True)\n",
      "    (1): Linear(in_features=10, out_features=1, bias=True)\n",
      "  )\n",
      "  (sigmoid): Sigmoid()\n",
      ")\n"
     ]
    }
   ],
   "source": [
    "model=torch.load(\"./test_model.pt\")\n",
    "model.eval()\n",
    "print(model)"
   ]
  },
  {
   "cell_type": "code",
   "execution_count": 14,
   "metadata": {},
   "outputs": [],
   "source": [
    "text=[]\n",
    "with open('./test_data.csv', 'r', encoding='utf-8') as file:\n",
    "    reader = csv.reader(file)\n",
    "    for i in reader:\n",
    "        if i[1]==\"text\":\n",
    "            continue\n",
    "        text.append(i[1])"
   ]
  },
  {
   "cell_type": "code",
   "execution_count": 15,
   "metadata": {},
   "outputs": [
    {
     "name": "stdout",
     "output_type": "stream",
     "text": [
      "['당신을 위한 특별 할인 이벤트! 오늘만 50% 할인된 가격으로 제품을 구매하세요!', '당신이 놓치고 있는 놀라운 기회! 지금 신청하면 무료 선물을 받을 수 있습니다!', '당신의 계정에 비정상적인 활동이 감지되었습니다. 비밀번호를 변경하고 보안을 강화하세요.', '이 대출 상품은 당신을 위해 특별히 설계되었습니다. 지금 바로 신청하세요!', '당신이 당첨되었습니다! 100만 원 상당의 상품을 받을 기회를 놓치지 마세요!', '이 음식점에서 특별한 할인 행사가 진행 중입니다. 맛있는 식사를 저렴한 가격에 즐기세요!', '당신의 사업을 성장시킬 수 있는 최고의 마케팅 전략을 알려드립니다. 상담 신청은 지금!', '이 새로운 앱을 다운로드하고 특별한 혜택을 누려보세요. 당신을 기다리고 있습니다!', '오늘만! 한정된 수량의 특별 상품을 할인된 가격으로 구매하세요.', '당신의 건강과 미모를 책임질 최고의 제품을 만나보세요. 오늘부터 새로운 시작을 해보세요!']\n"
     ]
    }
   ],
   "source": [
    "test_dataset = TextDataset(text)\n",
    "test_data_loader = DataLoader(test_dataset, batch_size=1,shuffle=False)"
   ]
  },
  {
   "cell_type": "code",
   "execution_count": 20,
   "metadata": {},
   "outputs": [
    {
     "name": "stdout",
     "output_type": "stream",
     "text": [
      "['당신을 위한 특별 할인 이벤트! 오늘만 50% 할인된 가격으로 제품을 구매하세요!'] =====> ok\n",
      "['당신이 놓치고 있는 놀라운 기회! 지금 신청하면 무료 선물을 받을 수 있습니다!'] =====> spam\n",
      "['당신의 계정에 비정상적인 활동이 감지되었습니다. 비밀번호를 변경하고 보안을 강화하세요.'] =====> spam\n",
      "['이 대출 상품은 당신을 위해 특별히 설계되었습니다. 지금 바로 신청하세요!'] =====> ok\n",
      "['당신이 당첨되었습니다! 100만 원 상당의 상품을 받을 기회를 놓치지 마세요!'] =====> spam\n",
      "['이 음식점에서 특별한 할인 행사가 진행 중입니다. 맛있는 식사를 저렴한 가격에 즐기세요!'] =====> ok\n",
      "['당신의 사업을 성장시킬 수 있는 최고의 마케팅 전략을 알려드립니다. 상담 신청은 지금!'] =====> ok\n",
      "['이 새로운 앱을 다운로드하고 특별한 혜택을 누려보세요. 당신을 기다리고 있습니다!'] =====> spam\n",
      "['오늘만! 한정된 수량의 특별 상품을 할인된 가격으로 구매하세요.'] =====> ok\n",
      "['당신의 건강과 미모를 책임질 최고의 제품을 만나보세요. 오늘부터 새로운 시작을 해보세요!'] =====> spam\n"
     ]
    },
    {
     "name": "stderr",
     "output_type": "stream",
     "text": [
      "/tmp/ipykernel_42036/2750278958.py:6: UserWarning: To copy construct from a tensor, it is recommended to use sourceTensor.clone().detach() or sourceTensor.clone().detach().requires_grad_(True), rather than torch.tensor(sourceTensor).\n",
      "  x=torch.tensor(x)\n"
     ]
    }
   ],
   "source": [
    "texts=[]\n",
    "y_pred=[]\n",
    "for x in test_data_loader:\n",
    "    texts.append(x)\n",
    "    x=model.tokenize_texts(x)\n",
    "    x=torch.tensor(x)\n",
    "    if torch.round(model(x))==1:\n",
    "        y_pred.append(\"spam\")\n",
    "    else:\n",
    "        y_pred.append(\"ok\")\n",
    "\n",
    "for i in range(len(texts)):\n",
    "    print(str(texts[i])+\" =====> \"+str(y_pred[i]))"
   ]
  },
  {
   "cell_type": "code",
   "execution_count": null,
   "metadata": {},
   "outputs": [],
   "source": []
  }
 ],
 "metadata": {
  "kernelspec": {
   "display_name": "base",
   "language": "python",
   "name": "python3"
  },
  "language_info": {
   "codemirror_mode": {
    "name": "ipython",
    "version": 3
   },
   "file_extension": ".py",
   "mimetype": "text/x-python",
   "name": "python",
   "nbconvert_exporter": "python",
   "pygments_lexer": "ipython3",
   "version": "3.9.7"
  },
  "orig_nbformat": 4
 },
 "nbformat": 4,
 "nbformat_minor": 2
}
